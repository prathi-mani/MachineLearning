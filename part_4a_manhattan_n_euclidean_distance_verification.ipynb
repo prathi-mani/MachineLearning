{
  "nbformat": 4,
  "nbformat_minor": 0,
  "metadata": {
    "colab": {
      "provenance": []
    },
    "kernelspec": {
      "name": "python3",
      "display_name": "Python 3"
    },
    "language_info": {
      "name": "python"
    }
  },
  "cells": [
    {
      "cell_type": "code",
      "execution_count": null,
      "metadata": {
        "id": "hROmhR1c5AFf"
      },
      "outputs": [],
      "source": [
        "! wget https://classes.engr.oregonstate.edu/eecs/fall2023/ai534-400/unit1/hw1/hw1-data.tgz"
      ]
    },
    {
      "cell_type": "code",
      "source": [
        "! tar -xzvf hw1-data.tgz"
      ],
      "metadata": {
        "id": "Ubb3SslZ51Fk"
      },
      "execution_count": null,
      "outputs": []
    },
    {
      "cell_type": "code",
      "source": [
        "import numpy as np\n",
        "\n",
        "class KNN:\n",
        "    def __init__(self, k=3, distance_metric='euclidean'):\n",
        "        self.k = k\n",
        "        self.distance_metric = distance_metric\n",
        "\n",
        "    def fit(self, X, y):\n",
        "        self.X_train = X\n",
        "        self.y_train = y\n",
        "\n",
        "    def predict(self, X):\n",
        "        y_pred = [self._predict(x) for x in X]\n",
        "        return np.array(y_pred)\n",
        "\n",
        "    def _predict(self, x):\n",
        "        # Compute the distance based on the chosen metric\n",
        "        if self.distance_metric == 'euclidean':\n",
        "            distances = np.linalg.norm(self.X_train - x, axis=1)\n",
        "        elif self.distance_metric == 'manhattan':\n",
        "            distances = np.sum(np.abs(self.X_train - x), axis=1)\n",
        "        else:\n",
        "            raise ValueError(\"Invalid distance metric\")\n",
        "\n",
        "        # Use np.argpartition to get indices of the k smallest distances\n",
        "        k_indices = np.argpartition(distances, self.k)[:self.k]\n",
        "\n",
        "        # Extract the labels of the k nearest neighbor training samples\n",
        "        k_nearest_labels = self.y_train[k_indices]\n",
        "\n",
        "        # Return the most common class label using NumPy\n",
        "        labels, counts = np.unique(k_nearest_labels, return_counts=True)\n",
        "        most_common_label = labels[np.argmax(counts)]\n",
        "\n",
        "        return most_common_label\n",
        "\n",
        "    def kneighbors(self, X, return_distance=True):\n",
        "        neighbors = []\n",
        "\n",
        "        for x in X:\n",
        "            # Compute the distance based on the chosen metric\n",
        "            if self.distance_metric == 'euclidean':\n",
        "                distances = np.linalg.norm(self.X_train - x, axis=1)\n",
        "            elif self.distance_metric == 'manhattan':\n",
        "                distances = np.sum(np.abs(self.X_train - x), axis=1)\n",
        "            else:\n",
        "                raise ValueError(\"Invalid distance metric\")\n",
        "\n",
        "            # Use np.argpartition to get indices of the k smallest distances\n",
        "            k_indices = np.argpartition(distances, self.k)[:self.k]\n",
        "\n",
        "            if return_distance:\n",
        "                k_distances = distances[k_indices]\n",
        "                neighbors.append((k_distances, k_indices))\n",
        "            else:\n",
        "                neighbors.append(k_indices)\n",
        "\n",
        "        return neighbors\n"
      ],
      "metadata": {
        "id": "KqSaaa-jWh1e"
      },
      "execution_count": 3,
      "outputs": []
    },
    {
      "cell_type": "code",
      "source": [
        "import pandas as pd\n",
        "from sklearn.preprocessing import OneHotEncoder\n",
        "from sklearn.neighbors import KNeighborsClassifier\n",
        "from sklearn.metrics import accuracy_score\n",
        "from sklearn.metrics import confusion_matrix\n",
        "from sklearn.compose import ColumnTransformer\n",
        "from sklearn.compose import ColumnTransformer\n",
        "from sklearn.preprocessing import MinMaxScaler,OneHotEncoder"
      ],
      "metadata": {
        "id": "2WXMJdEq6CzA"
      },
      "execution_count": 4,
      "outputs": []
    },
    {
      "cell_type": "code",
      "source": [
        "columns=[\"age\",\"sector\",\"edu\",\"marriage\",\"occupation\",\"race\",\"sex\",\"hours\",\"country\",\"target\"]\n",
        "dev_data = pd.read_csv(\"hw1-data/income.dev.txt\", sep=\",\" , names =columns )\n",
        "train_data = pd.read_csv(\"hw1-data/income.train.txt.5k\", sep=\",\", names=columns)\n",
        "dev_data_features = dev_data.drop('target', axis=1)\n",
        "train_data_features = train_data.drop('target', axis=1)\n",
        "dev_data_label = dev_data['target']\n",
        "train_data_label = train_data['target']\n",
        "num_processor=MinMaxScaler(feature_range=(0,2))\n",
        "cat_processor=OneHotEncoder(sparse_output=False,handle_unknown='ignore')\n",
        "preprocessor=ColumnTransformer([ ('num',num_processor,['age','hours']), ('cat',cat_processor,[\"sector\",\"edu\",\"marriage\",\"occupation\",\"race\",\"sex\",\"country\"]) ])\n",
        "preprocessor.fit(train_data_features)\n",
        "binary_train_data_features=preprocessor.transform(train_data_features)\n",
        "binary_dev_data_features= preprocessor.transform(dev_data_features)\n",
        "best_dev_error_rate = float('inf')\n",
        "best_k = None\n",
        "for k in [3]:\n",
        "\n",
        "  knn = KNN(k=k, distance_metric='manhattan')\n",
        "  knn.fit(binary_train_data_features, train_data_label)\n",
        "\n",
        "\n",
        "  train_pred = knn.predict(binary_train_data_features)\n",
        "  dev_pred = knn.predict(binary_dev_data_features)\n",
        "\n",
        "  train_positive_count = sum(train_pred == \" >50K\")\n",
        "  train_positive_rate = train_positive_count / len(train_pred) * 100\n",
        "\n",
        "  dev_positive_count = sum(dev_pred == \" >50K\")\n",
        "  dev_positive_rate = dev_positive_count / len(dev_pred) * 100\n",
        "\n",
        "  train_err = (1 - accuracy_score(train_data_label, train_pred)) * 100\n",
        "  dev_err = (1 - accuracy_score(dev_data_label, dev_pred)) * 100\n",
        "\n",
        "\n",
        "  if dev_err < best_dev_error_rate:\n",
        "    best_dev_error_rate = dev_err\n",
        "    best_k = k\n",
        "\n",
        "\n",
        "  print(f\"k={k} train_err: {train_err:.2f}% (+: {train_positive_rate:.2f}%) dev_err: {dev_err:.2f}% (+: {dev_positive_rate:.2f}%)\")\n",
        "print(f\"\\nBest development error rate: {best_dev_error_rate:.2f}% for k={best_k}\")"
      ],
      "metadata": {
        "id": "Nv2_tz2N6RyA",
        "colab": {
          "base_uri": "https://localhost:8080/"
        },
        "outputId": "919a2c93-dd59-465b-826a-d46e4baf193c"
      },
      "execution_count": 5,
      "outputs": [
        {
          "output_type": "stream",
          "name": "stdout",
          "text": [
            "k=3 train_err: 11.64% (+: 23.94%) dev_err: 19.70% (+: 26.10%)\n",
            "\n",
            "Best development error rate: 19.70% for k=3\n"
          ]
        }
      ]
    },
    {
      "cell_type": "code",
      "source": [
        "len(preprocessor.get_feature_names_out())"
      ],
      "metadata": {
        "colab": {
          "base_uri": "https://localhost:8080/"
        },
        "id": "6WKnrNcL_ReH",
        "outputId": "1f2cc850-cd75-4a57-ff12-604eb0fa2f51"
      },
      "execution_count": 6,
      "outputs": [
        {
          "output_type": "execute_result",
          "data": {
            "text/plain": [
              "92"
            ]
          },
          "metadata": {},
          "execution_count": 6
        }
      ]
    },
    {
      "cell_type": "code",
      "source": [
        "preprocessor.get_feature_names_out()"
      ],
      "metadata": {
        "id": "g3jNWklYNwXM"
      },
      "execution_count": null,
      "outputs": []
    },
    {
      "cell_type": "markdown",
      "source": [
        "distance verification using  manhattan distance"
      ],
      "metadata": {
        "id": "u3sXFAEsnrwv"
      }
    },
    {
      "cell_type": "code",
      "source": [
        "! head -1 'hw1-data/income.dev.txt'\n",
        "selected_row=binary_dev_data_features[0]\n",
        "neighbors  = knn.kneighbors([selected_row])\n",
        "distances, indices = neighbors[0]\n",
        "distances\n",
        "indices\n"
      ],
      "metadata": {
        "id": "gUy1Y5cg3eAz",
        "colab": {
          "base_uri": "https://localhost:8080/"
        },
        "outputId": "4fa7ea8b-f677-473c-9fe7-099ddfdaf610"
      },
      "execution_count": 8,
      "outputs": [
        {
          "output_type": "stream",
          "name": "stdout",
          "text": [
            "45, Federal-gov, Bachelors, Married-civ-spouse, Adm-clerical, White, Male, 45, United-States, <=50K\n"
          ]
        },
        {
          "output_type": "execute_result",
          "data": {
            "text/plain": [
              "array([1084, 4872, 4787])"
            ]
          },
          "metadata": {},
          "execution_count": 8
        }
      ]
    },
    {
      "cell_type": "code",
      "source": [
        "! sed -n 4873p 'hw1-data/income.train.txt.5k'\n",
        "! sed -n 4788p 'hw1-data/income.train.txt.5k'\n",
        "! sed -n 1085p 'hw1-data/income.train.txt.5k'"
      ],
      "metadata": {
        "colab": {
          "base_uri": "https://localhost:8080/"
        },
        "id": "WBMZgpzX3PAj",
        "outputId": "a1081548-2f54-46d0-adce-5fb54e1275dc"
      },
      "execution_count": 10,
      "outputs": [
        {
          "output_type": "stream",
          "name": "stdout",
          "text": [
            "33, Federal-gov, Bachelors, Married-civ-spouse, Adm-clerical, White, Male, 42, United-States, >50K\n",
            "47, Federal-gov, Bachelors, Married-civ-spouse, Adm-clerical, White, Male, 45, Germany, >50K\n",
            "45, Federal-gov, Bachelors, Married-civ-spouse, Exec-managerial, White, Male, 40, United-States, <=50K\n"
          ]
        }
      ]
    },
    {
      "cell_type": "markdown",
      "source": [
        "distance verification using  Euclidean distance"
      ],
      "metadata": {
        "id": "ERW9jJZpoor1"
      }
    },
    {
      "cell_type": "code",
      "source": [
        "for k in [3]:\n",
        "\n",
        "  knn = KNN(k=k, distance_metric='euclidean')\n",
        "  knn.fit(binary_train_data_features, train_data_label)\n",
        "\n",
        "\n",
        "  train_pred = knn.predict(binary_train_data_features)\n",
        "  dev_pred = knn.predict(binary_dev_data_features)\n",
        "\n",
        "  train_positive_count = sum(train_pred == \" >50K\")\n",
        "  train_positive_rate = train_positive_count / len(train_pred) * 100\n",
        "\n",
        "  dev_positive_count = sum(dev_pred == \" >50K\")\n",
        "  dev_positive_rate = dev_positive_count / len(dev_pred) * 100\n",
        "\n",
        "  train_err = (1 - accuracy_score(train_data_label, train_pred)) * 100\n",
        "  dev_err = (1 - accuracy_score(dev_data_label, dev_pred)) * 100\n",
        "\n",
        "\n",
        "\n",
        "  if dev_err < best_dev_error_rate:\n",
        "    best_dev_error_rate = dev_err\n",
        "    best_k = k\n",
        "\n",
        "\n",
        "  print(f\"k={k} train_err: {train_err:.2f}% (+: {train_positive_rate:.2f}%) dev_err: {dev_err:.2f}% (+: {dev_positive_rate:.2f}%)\")\n",
        "print(f\"\\nBest development error rate: {best_dev_error_rate:.2f}% for k={best_k}\")"
      ],
      "metadata": {
        "id": "r_rCwVqX4nSc",
        "colab": {
          "base_uri": "https://localhost:8080/"
        },
        "outputId": "70ea89d8-fa7a-4910-fca5-4aa2ad8c1fd3"
      },
      "execution_count": 11,
      "outputs": [
        {
          "output_type": "stream",
          "name": "stdout",
          "text": [
            "k=3 train_err: 11.40% (+: 23.90%) dev_err: 19.60% (+: 25.40%)\n",
            "\n",
            "Best development error rate: 19.60% for k=3\n"
          ]
        }
      ]
    },
    {
      "cell_type": "code",
      "source": [
        "neighbors  = knn.kneighbors([selected_row])\n",
        "distances, indices = neighbors[0]\n",
        "distances\n",
        "indices"
      ],
      "metadata": {
        "id": "qgk3NFU44nP8",
        "colab": {
          "base_uri": "https://localhost:8080/"
        },
        "outputId": "a059d008-58ef-4bce-a50a-5e2a52898706"
      },
      "execution_count": 12,
      "outputs": [
        {
          "output_type": "execute_result",
          "data": {
            "text/plain": [
              "array([4787, 4872, 2591])"
            ]
          },
          "metadata": {},
          "execution_count": 12
        }
      ]
    },
    {
      "cell_type": "code",
      "source": [
        "! sed -n 4873p 'hw1-data/income.train.txt.5k'\n",
        "! sed -n 4788p 'hw1-data/income.train.txt.5k'\n",
        "! sed -n 2592p 'hw1-data/income.train.txt.5k'"
      ],
      "metadata": {
        "id": "Vy6gFfMv47es",
        "colab": {
          "base_uri": "https://localhost:8080/"
        },
        "outputId": "956d5777-316e-429e-eab1-889cbe9efabf"
      },
      "execution_count": 13,
      "outputs": [
        {
          "output_type": "stream",
          "name": "stdout",
          "text": [
            "33, Federal-gov, Bachelors, Married-civ-spouse, Adm-clerical, White, Male, 42, United-States, >50K\n",
            "47, Federal-gov, Bachelors, Married-civ-spouse, Adm-clerical, White, Male, 45, Germany, >50K\n",
            "48, Federal-gov, Bachelors, Married-civ-spouse, Prof-specialty, White, Male, 44, United-States, >50K\n"
          ]
        }
      ]
    },
    {
      "cell_type": "markdown",
      "source": [
        "Distance verification using KNN Classifier"
      ],
      "metadata": {
        "id": "lECu9phwsc8Z"
      }
    },
    {
      "cell_type": "code",
      "source": [
        "for k in [3]:\n",
        "\n",
        "  knn = KNeighborsClassifier(n_neighbors=k, metric='euclidean')\n",
        "  knn.fit(binary_train_data_features, train_data_label)\n",
        "\n",
        "\n",
        "  train_pred = knn.predict(binary_train_data_features)\n",
        "  dev_pred = knn.predict(binary_dev_data_features)\n",
        "\n",
        "  train_positive_count = sum(train_pred == \" >50K\")\n",
        "  train_positive_rate = train_positive_count / len(train_pred) * 100\n",
        "\n",
        "  dev_positive_count = sum(dev_pred == \" >50K\")\n",
        "  dev_positive_rate = dev_positive_count / len(dev_pred) * 100\n",
        "\n",
        "  train_err = (1 - accuracy_score(train_data_label, train_pred)) * 100\n",
        "  dev_err = (1 - accuracy_score(dev_data_label, dev_pred)) * 100\n",
        "\n",
        "\n",
        "\n",
        "  if dev_err < best_dev_error_rate:\n",
        "    best_dev_error_rate = dev_err\n",
        "    best_k = k\n",
        "\n",
        "\n",
        "  print(f\"k={k} train_err: {train_err:.2f}% (+: {train_positive_rate:.2f}%) dev_err: {dev_err:.2f}% (+: {dev_positive_rate:.2f}%)\")\n",
        "print(f\"\\nBest development error rate: {best_dev_error_rate:.2f}% for k={best_k}\")"
      ],
      "metadata": {
        "id": "8bIZb6__scuh"
      },
      "execution_count": null,
      "outputs": []
    },
    {
      "cell_type": "code",
      "source": [
        "! head -1 'hw1-data/income.dev.txt'\n",
        "selected_row=binary_dev_data_features[0]\n",
        "neighbors  = knn.kneighbors([selected_row])\n",
        "neighbors"
      ],
      "metadata": {
        "colab": {
          "base_uri": "https://localhost:8080/"
        },
        "id": "fbQGEA-gsj9O",
        "outputId": "d44353a3-a4c8-4944-bc55-7f07f42c0b6d"
      },
      "execution_count": 22,
      "outputs": [
        {
          "output_type": "stream",
          "name": "stdout",
          "text": [
            "45, Federal-gov, Bachelors, Married-civ-spouse, Adm-clerical, White, Male, 45, United-States, <=50K\n"
          ]
        },
        {
          "output_type": "execute_result",
          "data": {
            "text/plain": [
              "(array([[0.33441929, 1.41527469, 1.41674697]]), array([[4872, 4787, 2591]]))"
            ]
          },
          "metadata": {},
          "execution_count": 22
        }
      ]
    },
    {
      "cell_type": "code",
      "source": [
        "! sed -n 4873p 'hw1-data/income.train.txt.5k'\n",
        "! sed -n 4788p 'hw1-data/income.train.txt.5k'\n",
        "! sed -n 2592p 'hw1-data/income.train.txt.5k'"
      ],
      "metadata": {
        "colab": {
          "base_uri": "https://localhost:8080/"
        },
        "id": "mra3fNSiusfu",
        "outputId": "9217fc68-e363-47bc-f6b0-8002fe96b2bd"
      },
      "execution_count": 23,
      "outputs": [
        {
          "output_type": "stream",
          "name": "stdout",
          "text": [
            "33, Federal-gov, Bachelors, Married-civ-spouse, Adm-clerical, White, Male, 42, United-States, >50K\n",
            "47, Federal-gov, Bachelors, Married-civ-spouse, Adm-clerical, White, Male, 45, Germany, >50K\n",
            "48, Federal-gov, Bachelors, Married-civ-spouse, Prof-specialty, White, Male, 44, United-States, >50K\n"
          ]
        }
      ]
    },
    {
      "cell_type": "markdown",
      "source": [
        "Distance verification for manhattan"
      ],
      "metadata": {
        "id": "HbhFcoKBvQdd"
      }
    },
    {
      "cell_type": "code",
      "source": [
        "for k in [3]:\n",
        "\n",
        "  knn = KNeighborsClassifier(n_neighbors=k, metric='manhattan')\n",
        "  knn.fit(binary_train_data_features, train_data_label)\n",
        "\n",
        "\n",
        "  train_pred = knn.predict(binary_train_data_features)\n",
        "  dev_pred = knn.predict(binary_dev_data_features)\n",
        "\n",
        "  train_positive_count = sum(train_pred == \" >50K\")\n",
        "  train_positive_rate = train_positive_count / len(train_pred) * 100\n",
        "\n",
        "  dev_positive_count = sum(dev_pred == \" >50K\")\n",
        "  dev_positive_rate = dev_positive_count / len(dev_pred) * 100\n",
        "\n",
        "  train_err = (1 - accuracy_score(train_data_label, train_pred)) * 100\n",
        "  dev_err = (1 - accuracy_score(dev_data_label, dev_pred)) * 100\n",
        "\n",
        "\n",
        "\n",
        "  if dev_err < best_dev_error_rate:\n",
        "    best_dev_error_rate = dev_err\n",
        "    best_k = k\n",
        "\n",
        "\n",
        "  print(f\"k={k} train_err: {train_err:.2f}% (+: {train_positive_rate:.2f}%) dev_err: {dev_err:.2f}% (+: {dev_positive_rate:.2f}%)\")\n",
        "print(f\"\\nBest development error rate: {best_dev_error_rate:.2f}% for k={best_k}\")"
      ],
      "metadata": {
        "colab": {
          "base_uri": "https://localhost:8080/"
        },
        "id": "8DxE336TvOsb",
        "outputId": "62a7325f-8faa-4913-dcf5-38a121e299f0"
      },
      "execution_count": 24,
      "outputs": [
        {
          "output_type": "stream",
          "name": "stdout",
          "text": [
            "k=3 train_err: 11.68% (+: 23.98%) dev_err: 20.10% (+: 26.50%)\n",
            "\n",
            "Best development error rate: 19.30% for k=3\n"
          ]
        }
      ]
    },
    {
      "cell_type": "code",
      "source": [
        "! head -1 'hw1-data/income.dev.txt'\n",
        "selected_row=binary_dev_data_features[0]\n",
        "neighbors  = knn.kneighbors([selected_row])\n",
        "neighbors"
      ],
      "metadata": {
        "colab": {
          "base_uri": "https://localhost:8080/"
        },
        "id": "OiBIQjXyvZ0j",
        "outputId": "70eec7b2-fb08-4460-8fa9-f9c5d0e9f5ca"
      },
      "execution_count": 25,
      "outputs": [
        {
          "output_type": "stream",
          "name": "stdout",
          "text": [
            "45, Federal-gov, Bachelors, Married-civ-spouse, Adm-clerical, White, Male, 45, United-States, <=50K\n"
          ]
        },
        {
          "output_type": "execute_result",
          "data": {
            "text/plain": [
              "(array([[0.38999161, 2.05479452, 2.10204082]]), array([[4872, 4787, 1084]]))"
            ]
          },
          "metadata": {},
          "execution_count": 25
        }
      ]
    },
    {
      "cell_type": "code",
      "source": [
        "! sed -n 4873p 'hw1-data/income.train.txt.5k'\n",
        "! sed -n 4788p 'hw1-data/income.train.txt.5k'\n",
        "! sed -n 1085p 'hw1-data/income.train.txt.5k'"
      ],
      "metadata": {
        "colab": {
          "base_uri": "https://localhost:8080/"
        },
        "id": "18ApnO6hvcPk",
        "outputId": "e00ce9e1-2bcf-4fa5-a18a-5a4934d6fc49"
      },
      "execution_count": 26,
      "outputs": [
        {
          "output_type": "stream",
          "name": "stdout",
          "text": [
            "33, Federal-gov, Bachelors, Married-civ-spouse, Adm-clerical, White, Male, 42, United-States, >50K\n",
            "47, Federal-gov, Bachelors, Married-civ-spouse, Adm-clerical, White, Male, 45, Germany, >50K\n",
            "45, Federal-gov, Bachelors, Married-civ-spouse, Exec-managerial, White, Male, 40, United-States, <=50K\n"
          ]
        }
      ]
    }
  ]
}