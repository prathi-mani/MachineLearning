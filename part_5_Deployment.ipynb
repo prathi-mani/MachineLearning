{
  "cells": [
    {
      "cell_type": "code",
      "execution_count": null,
      "metadata": {
        "colab": {
          "base_uri": "https://localhost:8080/"
        },
        "id": "hROmhR1c5AFf",
        "outputId": "dcb3e41b-9802-43e8-a8f1-ae74c510ecaa"
      },
      "outputs": [
        {
          "output_type": "stream",
          "name": "stdout",
          "text": [
            "--2023-10-23 07:42:42--  https://classes.engr.oregonstate.edu/eecs/fall2023/ai534-400/unit1/hw1/hw1-data.tgz\n",
            "Resolving classes.engr.oregonstate.edu (classes.engr.oregonstate.edu)... 128.193.40.20\n",
            "Connecting to classes.engr.oregonstate.edu (classes.engr.oregonstate.edu)|128.193.40.20|:443... connected.\n",
            "HTTP request sent, awaiting response... 200 OK\n",
            "Length: 54557 (53K) [application/x-gzip]\n",
            "Saving to: ‘hw1-data.tgz’\n",
            "\n",
            "hw1-data.tgz        100%[===================>]  53.28K  --.-KB/s    in 0.1s    \n",
            "\n",
            "2023-10-23 07:42:43 (508 KB/s) - ‘hw1-data.tgz’ saved [54557/54557]\n",
            "\n"
          ]
        }
      ],
      "source": [
        "! wget https://classes.engr.oregonstate.edu/eecs/fall2023/ai534-400/unit1/hw1/hw1-data.tgz"
      ]
    },
    {
      "cell_type": "code",
      "execution_count": null,
      "metadata": {
        "colab": {
          "base_uri": "https://localhost:8080/"
        },
        "id": "Ubb3SslZ51Fk",
        "outputId": "1184b7d3-bf83-45ee-8ddb-01e0d505a79c"
      },
      "outputs": [
        {
          "output_type": "stream",
          "name": "stdout",
          "text": [
            "hw1-data/random_output.py\n",
            "hw1-data/validate.py\n",
            "hw1-data/toy.txt\n",
            "hw1-data/income.train.txt.5k\n",
            "hw1-data/income.dev.txt\n",
            "hw1-data/income.test.blind\n"
          ]
        }
      ],
      "source": [
        "! tar -xzvf hw1-data.tgz"
      ]
    },
    {
      "cell_type": "code",
      "execution_count": null,
      "metadata": {
        "id": "KqSaaa-jWh1e"
      },
      "outputs": [],
      "source": [
        "import numpy as np\n",
        "\n",
        "class KNN:\n",
        "    def __init__(self, k=3, distance_metric='euclidean'):\n",
        "        self.k = k\n",
        "        self.distance_metric = distance_metric\n",
        "\n",
        "    def fit(self, X, y):\n",
        "        self.X_train = X\n",
        "        self.y_train = y\n",
        "\n",
        "    def predict(self, X):\n",
        "        y_pred = [self._predict(x) for x in X]\n",
        "        return np.array(y_pred)\n",
        "\n",
        "    def _predict(self, x):\n",
        "        # Compute the distance based on the chosen metric\n",
        "        if self.distance_metric == 'euclidean':\n",
        "            distances = np.linalg.norm(self.X_train - x, axis=1)\n",
        "        elif self.distance_metric == 'manhattan':\n",
        "            distances = np.sum(np.abs(self.X_train - x), axis=1)\n",
        "        else:\n",
        "            raise ValueError(\"Invalid distance metric\")\n",
        "\n",
        "        # Use np.argpartition to get indices of the k smallest distances\n",
        "        k_indices = np.argpartition(distances, self.k)[:self.k]\n",
        "\n",
        "        # Extract the labels of the k nearest neighbor training samples\n",
        "        k_nearest_labels = self.y_train[k_indices]\n",
        "\n",
        "        # Return the most common class label using NumPy\n",
        "        labels, counts = np.unique(k_nearest_labels, return_counts=True)\n",
        "        most_common_label = labels[np.argmax(counts)]\n",
        "\n",
        "        return most_common_label\n",
        "\n",
        "    def kneighbors(self, X, return_distance=True):\n",
        "        neighbors = []\n",
        "\n",
        "        for x in X:\n",
        "            # Compute the distance based on the chosen metric\n",
        "            if self.distance_metric == 'euclidean':\n",
        "                distances = np.linalg.norm(self.X_train - x, axis=1)\n",
        "            elif self.distance_metric == 'manhattan':\n",
        "                distances = np.sum(np.abs(self.X_train - x), axis=1)\n",
        "            else:\n",
        "                raise ValueError(\"Invalid distance metric\")\n",
        "\n",
        "            # Use np.argpartition to get indices of the k smallest distances\n",
        "            k_indices = np.argpartition(distances, self.k)[:self.k]\n",
        "\n",
        "            if return_distance:\n",
        "                k_distances = distances[k_indices]\n",
        "                neighbors.append((k_distances, k_indices))\n",
        "            else:\n",
        "                neighbors.append(k_indices)\n",
        "\n",
        "        return neighbors\n"
      ]
    },
    {
      "cell_type": "code",
      "execution_count": null,
      "metadata": {
        "id": "2WXMJdEq6CzA"
      },
      "outputs": [],
      "source": [
        "import pandas as pd\n",
        "from sklearn.preprocessing import OneHotEncoder\n",
        "from sklearn.neighbors import KNeighborsClassifier\n",
        "from sklearn.metrics import accuracy_score\n",
        "from sklearn.metrics import confusion_matrix\n",
        "from sklearn.compose import ColumnTransformer\n",
        "from sklearn.compose import ColumnTransformer\n",
        "from sklearn.preprocessing import MinMaxScaler,OneHotEncoder"
      ]
    },
    {
      "cell_type": "code",
      "execution_count": null,
      "metadata": {
        "colab": {
          "base_uri": "https://localhost:8080/"
        },
        "id": "Nv2_tz2N6RyA",
        "outputId": "4edccbfc-2234-44cd-cacb-2d1a69372f35"
      },
      "outputs": [
        {
          "output_type": "stream",
          "name": "stdout",
          "text": [
            "k=41  (+: 21.06%) (+: 20.80%)\n"
          ]
        }
      ],
      "source": [
        "columns=[\"age\",\"sector\",\"edu\",\"marriage\",\"occupation\",\"race\",\"sex\",\"hours\",\"country\",\"target\"]\n",
        "dev_columns=[\"age\",\"sector\",\"edu\",\"marriage\",\"occupation\",\"race\",\"sex\",\"hours\",\"country\"]\n",
        "dev_data_features = pd.read_csv(\"hw1-data/income.test.blind\", sep=\",\" , names =dev_columns )\n",
        "train_data = pd.read_csv(\"hw1-data/income.train.txt.5k\", sep=\",\", names=columns)\n",
        "#dev_data_features = dev_data.drop('target', axis=1)\n",
        "train_data_features = train_data.drop('target', axis=1)\n",
        "#dev_data_label = dev_data['target']\n",
        "train_data_label = train_data['target']\n",
        "num_processor=MinMaxScaler(feature_range=(0,2))\n",
        "cat_processor=OneHotEncoder(sparse_output=False,handle_unknown='ignore')\n",
        "preprocessor=ColumnTransformer([ ('num',num_processor,['age','hours']), ('cat',cat_processor,[\"sector\",\"edu\",\"marriage\",\"occupation\",\"race\",\"sex\",\"country\"]) ])\n",
        "preprocessor.fit(train_data_features)\n",
        "binary_train_data_features=preprocessor.transform(train_data_features)\n",
        "binary_dev_data_features= preprocessor.transform(dev_data_features)\n",
        "best_dev_error_rate = float('inf')\n",
        "best_k = None\n",
        "for k in [41]:\n",
        "\n",
        "  knn = KNN(k=k, distance_metric='manhattan')\n",
        "  knn.fit(binary_train_data_features, train_data_label)\n",
        "\n",
        "\n",
        "  train_pred = knn.predict(binary_train_data_features)\n",
        "  dev_pred = knn.predict(binary_dev_data_features)\n",
        "\n",
        "  train_positive_count = sum(train_pred == \" >50K\")\n",
        "  train_positive_rate = train_positive_count / len(train_pred) * 100\n",
        "\n",
        "  dev_positive_count = sum(dev_pred == \" >50K\")\n",
        "  dev_positive_rate = dev_positive_count / len(dev_pred) * 100\n",
        "\n",
        "  #train_err = (1 - accuracy_score(train_data_label, train_pred)) * 100\n",
        " # dev_err = (1 - accuracy_score(dev_data_label, dev_pred)) * 100\n",
        "\n",
        "\n",
        "  # if dev_err < best_dev_error_rate:\n",
        "  #   best_dev_error_rate = dev_err\n",
        "  #   best_k = k\n",
        "\n",
        "\n",
        "  print(f\"k={k}  (+: {train_positive_rate:.2f}%) (+: {dev_positive_rate:.2f}%)\")\n",
        "#print(f\"\\nBest development error rate: {best_dev_error_rate:.2f}% for k={best_k}\")"
      ]
    },
    {
      "cell_type": "code",
      "source": [
        "data_blind=pd.read_csv(\"hw1-data/income.test.blind\", sep=\",\" , names =dev_columns )\n",
        "data_blind['target'] = dev_pred\n",
        "output_path = \"income.test.predicted\"\n",
        "data_blind.to_csv(output_path, header=False, index=False)\n"
      ],
      "metadata": {
        "id": "IXajD-gfW278"
      },
      "execution_count": null,
      "outputs": []
    },
    {
      "cell_type": "code",
      "source": [
        "cat income.test.predicted | python3 'hw1-data/random_output.py' | python3 'hw1-data/validate.py'"
      ],
      "metadata": {
        "colab": {
          "base_uri": "https://localhost:8080/"
        },
        "id": "IJIomAF4XC3v",
        "outputId": "b403d5fc-627e-4968-d665-d0c467d6974a"
      },
      "execution_count": null,
      "outputs": [
        {
          "output_type": "stream",
          "name": "stdout",
          "text": [
            "Your file has passed the formatting test! :)\n",
            "Your positive rate is 49.6%.\n",
            "ERROR: Your positive rate seems too high (should be similar to train and dev).\n",
            "PLEASE DOUBLE CHECK YOUR BINARIZATION AND kNN CODE.\n"
          ]
        }
      ]
    }
  ],
  "metadata": {
    "colab": {
      "provenance": []
    },
    "kernelspec": {
      "display_name": "Python 3",
      "name": "python3"
    },
    "language_info": {
      "name": "python"
    }
  },
  "nbformat": 4,
  "nbformat_minor": 0
}