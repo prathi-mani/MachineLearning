{
  "nbformat": 4,
  "nbformat_minor": 0,
  "metadata": {
    "colab": {
      "provenance": []
    },
    "kernelspec": {
      "name": "python3",
      "display_name": "Python 3"
    },
    "language_info": {
      "name": "python"
    }
  },
  "cells": [
    {
      "cell_type": "code",
      "execution_count": null,
      "metadata": {
        "id": "hROmhR1c5AFf",
        "colab": {
          "base_uri": "https://localhost:8080/"
        },
        "outputId": "f37c69e2-8965-44fd-901f-262cf05fefd0"
      },
      "outputs": [
        {
          "output_type": "stream",
          "name": "stdout",
          "text": [
            "--2023-10-23 04:37:23--  https://classes.engr.oregonstate.edu/eecs/fall2023/ai534-400/unit1/hw1/hw1-data.tgz\n",
            "Resolving classes.engr.oregonstate.edu (classes.engr.oregonstate.edu)... 128.193.40.20\n",
            "Connecting to classes.engr.oregonstate.edu (classes.engr.oregonstate.edu)|128.193.40.20|:443... connected.\n",
            "HTTP request sent, awaiting response... 200 OK\n",
            "Length: 54557 (53K) [application/x-gzip]\n",
            "Saving to: ‘hw1-data.tgz’\n",
            "\n",
            "hw1-data.tgz        100%[===================>]  53.28K   168KB/s    in 0.3s    \n",
            "\n",
            "2023-10-23 04:37:24 (168 KB/s) - ‘hw1-data.tgz’ saved [54557/54557]\n",
            "\n"
          ]
        }
      ],
      "source": [
        "! wget https://classes.engr.oregonstate.edu/eecs/fall2023/ai534-400/unit1/hw1/hw1-data.tgz"
      ]
    },
    {
      "cell_type": "code",
      "source": [
        "! tar -xzvf hw1-data.tgz"
      ],
      "metadata": {
        "id": "Ubb3SslZ51Fk",
        "colab": {
          "base_uri": "https://localhost:8080/"
        },
        "outputId": "856cd036-2c92-4d47-a9bf-c1188e3484df"
      },
      "execution_count": null,
      "outputs": [
        {
          "output_type": "stream",
          "name": "stdout",
          "text": [
            "hw1-data/random_output.py\n",
            "hw1-data/validate.py\n",
            "hw1-data/toy.txt\n",
            "hw1-data/income.train.txt.5k\n",
            "hw1-data/income.dev.txt\n",
            "hw1-data/income.test.blind\n"
          ]
        }
      ]
    },
    {
      "cell_type": "code",
      "source": [
        "import pandas as pd\n",
        "from sklearn.preprocessing import MinMaxScaler,OneHotEncoder\n",
        "from sklearn.neighbors import KNeighborsClassifier\n",
        "from sklearn.metrics import accuracy_score\n",
        "from sklearn.metrics import confusion_matrix\n",
        "from sklearn.compose import ColumnTransformer"
      ],
      "metadata": {
        "id": "8eUQd15jdau_"
      },
      "execution_count": null,
      "outputs": []
    },
    {
      "cell_type": "markdown",
      "source": [
        "PART 2\n"
      ],
      "metadata": {
        "id": "M9e1bj1CdcGA"
      }
    },
    {
      "cell_type": "code",
      "source": [
        "\n",
        "\n",
        "columns=[\"age\",\"sector\",\"edu\",\"marriage\",\"occupation\",\"race\",\"sex\",\"hours\",\"country\",\"target\"]\n",
        "dev_data = pd.read_csv(\"hw1-data/income.dev.txt\", sep=\",\" , names =columns )\n",
        "train_data = pd.read_csv(\"hw1-data/income.train.txt.5k\", sep=\",\", names=columns)\n",
        "dev_data_features = dev_data.drop('target', axis=1)\n",
        "train_data_features = train_data.drop('target', axis=1)\n",
        "dev_data_label = dev_data['target']\n",
        "train_data_label = train_data['target']\n",
        "encoder=OneHotEncoder(sparse_output=False,handle_unknown='ignore')\n",
        "binary_train_data_features= encoder.fit_transform(train_data_features)\n",
        "binary_dev_data_features= encoder.transform(dev_data_features)\n",
        "best_dev_error_rate = float('inf')\n",
        "best_k = None\n",
        "\n",
        "for k in range(1, 100, 2):\n",
        "\n",
        "  knn = KNeighborsClassifier(n_neighbors=k)\n",
        "  knn.fit(binary_train_data_features, train_data_label)\n",
        "\n",
        "\n",
        "  train_pred = knn.predict(binary_train_data_features)\n",
        "  dev_pred = knn.predict(binary_dev_data_features)\n",
        "\n",
        "\n",
        "  train_err = (1 - accuracy_score(train_data_label, train_pred)) * 100\n",
        "  dev_err = (1 - accuracy_score(dev_data_label, dev_pred)) * 100\n",
        "\n",
        "  train_positive_count = sum(train_pred == \" >50K\")\n",
        "  train_positive_rate = train_positive_count / len(train_pred) * 100\n",
        "\n",
        "  dev_positive_count = sum(dev_pred == \" >50K\")\n",
        "  dev_positive_rate = dev_positive_count / len(dev_pred) * 100\n",
        "\n",
        "  if dev_err < best_dev_error_rate:\n",
        "    best_dev_error_rate = dev_err\n",
        "    best_k = k\n",
        "\n",
        "\n",
        "  print(f\"k={k} train_err: {train_err:.2f}% (+: {train_positive_rate:.2f}%) dev_err: {dev_err:.2f}% (+: {dev_positive_rate:.2f}%)\")\n",
        "\n",
        "print(f\"\\nBest development error rate: {best_dev_error_rate:.2f}% for k={best_k}\")\n",
        "\n"
      ],
      "metadata": {
        "id": "Nv2_tz2N6RyA",
        "colab": {
          "base_uri": "https://localhost:8080/"
        },
        "outputId": "bbf245b2-6ed5-418c-f9d6-3fb41e2c3b29"
      },
      "execution_count": null,
      "outputs": [
        {
          "output_type": "stream",
          "name": "stdout",
          "text": [
            "k=1 train_err: 1.52% (+: 25.06%) dev_err: 23.20% (+: 24.80%)\n",
            "k=3 train_err: 11.68% (+: 23.14%) dev_err: 17.70% (+: 22.10%)\n",
            "k=5 train_err: 14.44% (+: 21.78%) dev_err: 16.20% (+: 20.60%)\n",
            "k=7 train_err: 15.16% (+: 21.66%) dev_err: 16.10% (+: 20.30%)\n",
            "k=9 train_err: 16.36% (+: 21.74%) dev_err: 16.30% (+: 20.70%)\n",
            "k=11 train_err: 16.82% (+: 21.24%) dev_err: 16.60% (+: 19.00%)\n",
            "k=13 train_err: 16.76% (+: 20.50%) dev_err: 17.00% (+: 19.60%)\n",
            "k=15 train_err: 16.78% (+: 20.04%) dev_err: 17.00% (+: 19.00%)\n",
            "k=17 train_err: 17.08% (+: 19.30%) dev_err: 16.50% (+: 18.30%)\n",
            "k=19 train_err: 17.12% (+: 19.70%) dev_err: 16.50% (+: 18.10%)\n",
            "k=21 train_err: 17.36% (+: 19.30%) dev_err: 16.20% (+: 18.00%)\n",
            "k=23 train_err: 17.60% (+: 19.38%) dev_err: 16.50% (+: 18.30%)\n",
            "k=25 train_err: 17.22% (+: 19.08%) dev_err: 15.90% (+: 18.10%)\n",
            "k=27 train_err: 17.56% (+: 18.58%) dev_err: 16.30% (+: 17.50%)\n",
            "k=29 train_err: 17.58% (+: 18.56%) dev_err: 16.50% (+: 17.70%)\n",
            "k=31 train_err: 17.74% (+: 18.56%) dev_err: 16.00% (+: 17.40%)\n",
            "k=33 train_err: 17.82% (+: 18.28%) dev_err: 15.90% (+: 18.10%)\n",
            "k=35 train_err: 17.66% (+: 18.36%) dev_err: 16.80% (+: 17.60%)\n",
            "k=37 train_err: 17.92% (+: 18.26%) dev_err: 16.00% (+: 17.40%)\n",
            "k=39 train_err: 17.78% (+: 17.88%) dev_err: 15.70% (+: 17.70%)\n",
            "k=41 train_err: 17.58% (+: 17.88%) dev_err: 16.40% (+: 18.20%)\n",
            "k=43 train_err: 17.78% (+: 17.92%) dev_err: 16.50% (+: 17.50%)\n",
            "k=45 train_err: 17.86% (+: 18.00%) dev_err: 16.50% (+: 17.50%)\n",
            "k=47 train_err: 17.74% (+: 17.80%) dev_err: 16.00% (+: 17.60%)\n",
            "k=49 train_err: 17.82% (+: 18.12%) dev_err: 16.10% (+: 17.30%)\n",
            "k=51 train_err: 17.98% (+: 17.96%) dev_err: 16.00% (+: 17.20%)\n",
            "k=53 train_err: 17.76% (+: 17.78%) dev_err: 16.00% (+: 17.80%)\n",
            "k=55 train_err: 18.06% (+: 17.88%) dev_err: 16.10% (+: 17.50%)\n",
            "k=57 train_err: 18.08% (+: 18.14%) dev_err: 16.40% (+: 17.40%)\n",
            "k=59 train_err: 17.78% (+: 17.88%) dev_err: 16.50% (+: 17.50%)\n",
            "k=61 train_err: 17.84% (+: 17.98%) dev_err: 16.40% (+: 17.60%)\n",
            "k=63 train_err: 18.04% (+: 18.02%) dev_err: 16.20% (+: 17.60%)\n",
            "k=65 train_err: 18.08% (+: 18.06%) dev_err: 16.60% (+: 18.00%)\n",
            "k=67 train_err: 17.94% (+: 17.88%) dev_err: 16.40% (+: 17.40%)\n",
            "k=69 train_err: 18.04% (+: 17.94%) dev_err: 16.50% (+: 17.50%)\n",
            "k=71 train_err: 18.16% (+: 17.78%) dev_err: 16.50% (+: 17.70%)\n",
            "k=73 train_err: 18.32% (+: 17.74%) dev_err: 16.50% (+: 17.50%)\n",
            "k=75 train_err: 18.32% (+: 17.78%) dev_err: 16.10% (+: 17.50%)\n",
            "k=77 train_err: 18.08% (+: 17.86%) dev_err: 16.70% (+: 17.50%)\n",
            "k=79 train_err: 18.08% (+: 17.70%) dev_err: 16.20% (+: 17.80%)\n",
            "k=81 train_err: 18.24% (+: 17.94%) dev_err: 16.40% (+: 17.80%)\n",
            "k=83 train_err: 18.24% (+: 17.86%) dev_err: 16.00% (+: 17.40%)\n",
            "k=85 train_err: 18.08% (+: 17.78%) dev_err: 16.60% (+: 17.60%)\n",
            "k=87 train_err: 18.10% (+: 17.80%) dev_err: 16.50% (+: 17.50%)\n",
            "k=89 train_err: 18.10% (+: 17.68%) dev_err: 16.40% (+: 17.20%)\n",
            "k=91 train_err: 18.10% (+: 17.84%) dev_err: 16.10% (+: 17.50%)\n",
            "k=93 train_err: 18.20% (+: 17.58%) dev_err: 16.20% (+: 17.20%)\n",
            "k=95 train_err: 18.10% (+: 17.72%) dev_err: 16.30% (+: 17.30%)\n",
            "k=97 train_err: 18.10% (+: 17.64%) dev_err: 16.00% (+: 17.20%)\n",
            "k=99 train_err: 18.24% (+: 17.62%) dev_err: 16.20% (+: 17.40%)\n",
            "\n",
            "Best development error rate: 15.70% for k=39\n"
          ]
        }
      ]
    },
    {
      "cell_type": "code",
      "source": [
        "encoder.get_feature_names_out()"
      ],
      "metadata": {
        "colab": {
          "base_uri": "https://localhost:8080/"
        },
        "id": "lxqMzqFGau9B",
        "outputId": "4db51677-45a6-4fc0-f25a-66eab0214db4"
      },
      "execution_count": null,
      "outputs": [
        {
          "output_type": "execute_result",
          "data": {
            "text/plain": [
              "array(['age_17', 'age_18', 'age_19', 'age_20', 'age_21', 'age_22',\n",
              "       'age_23', 'age_24', 'age_25', 'age_26', 'age_27', 'age_28',\n",
              "       'age_29', 'age_30', 'age_31', 'age_32', 'age_33', 'age_34',\n",
              "       'age_35', 'age_36', 'age_37', 'age_38', 'age_39', 'age_40',\n",
              "       'age_41', 'age_42', 'age_43', 'age_44', 'age_45', 'age_46',\n",
              "       'age_47', 'age_48', 'age_49', 'age_50', 'age_51', 'age_52',\n",
              "       'age_53', 'age_54', 'age_55', 'age_56', 'age_57', 'age_58',\n",
              "       'age_59', 'age_60', 'age_61', 'age_62', 'age_63', 'age_64',\n",
              "       'age_65', 'age_66', 'age_67', 'age_68', 'age_69', 'age_70',\n",
              "       'age_71', 'age_72', 'age_73', 'age_74', 'age_75', 'age_76',\n",
              "       'age_77', 'age_78', 'age_79', 'age_80', 'age_81', 'age_88',\n",
              "       'age_90', 'sector_ Federal-gov', 'sector_ Local-gov',\n",
              "       'sector_ Private', 'sector_ Self-emp-inc',\n",
              "       'sector_ Self-emp-not-inc', 'sector_ State-gov',\n",
              "       'sector_ Without-pay', 'edu_ 10th', 'edu_ 11th', 'edu_ 12th',\n",
              "       'edu_ 1st-4th', 'edu_ 5th-6th', 'edu_ 7th-8th', 'edu_ 9th',\n",
              "       'edu_ Assoc-acdm', 'edu_ Assoc-voc', 'edu_ Bachelors',\n",
              "       'edu_ Doctorate', 'edu_ HS-grad', 'edu_ Masters', 'edu_ Preschool',\n",
              "       'edu_ Prof-school', 'edu_ Some-college', 'marriage_ Divorced',\n",
              "       'marriage_ Married-AF-spouse', 'marriage_ Married-civ-spouse',\n",
              "       'marriage_ Married-spouse-absent', 'marriage_ Never-married',\n",
              "       'marriage_ Separated', 'marriage_ Widowed',\n",
              "       'occupation_ Adm-clerical', 'occupation_ Armed-Forces',\n",
              "       'occupation_ Craft-repair', 'occupation_ Exec-managerial',\n",
              "       'occupation_ Farming-fishing', 'occupation_ Handlers-cleaners',\n",
              "       'occupation_ Machine-op-inspct', 'occupation_ Other-service',\n",
              "       'occupation_ Priv-house-serv', 'occupation_ Prof-specialty',\n",
              "       'occupation_ Protective-serv', 'occupation_ Sales',\n",
              "       'occupation_ Tech-support', 'occupation_ Transport-moving',\n",
              "       'race_ Amer-Indian-Eskimo', 'race_ Asian-Pac-Islander',\n",
              "       'race_ Black', 'race_ Other', 'race_ White', 'sex_ Female',\n",
              "       'sex_ Male', 'hours_1', 'hours_2', 'hours_3', 'hours_5', 'hours_6',\n",
              "       'hours_7', 'hours_8', 'hours_9', 'hours_10', 'hours_11',\n",
              "       'hours_12', 'hours_13', 'hours_14', 'hours_15', 'hours_16',\n",
              "       'hours_17', 'hours_18', 'hours_19', 'hours_20', 'hours_21',\n",
              "       'hours_22', 'hours_24', 'hours_25', 'hours_26', 'hours_27',\n",
              "       'hours_28', 'hours_30', 'hours_32', 'hours_33', 'hours_34',\n",
              "       'hours_35', 'hours_36', 'hours_37', 'hours_38', 'hours_39',\n",
              "       'hours_40', 'hours_41', 'hours_42', 'hours_43', 'hours_44',\n",
              "       'hours_45', 'hours_46', 'hours_47', 'hours_48', 'hours_49',\n",
              "       'hours_50', 'hours_51', 'hours_52', 'hours_53', 'hours_54',\n",
              "       'hours_55', 'hours_56', 'hours_57', 'hours_58', 'hours_59',\n",
              "       'hours_60', 'hours_62', 'hours_63', 'hours_64', 'hours_65',\n",
              "       'hours_66', 'hours_68', 'hours_70', 'hours_72', 'hours_75',\n",
              "       'hours_77', 'hours_78', 'hours_80', 'hours_84', 'hours_85',\n",
              "       'hours_90', 'hours_98', 'hours_99', 'country_ Cambodia',\n",
              "       'country_ Canada', 'country_ China', 'country_ Columbia',\n",
              "       'country_ Cuba', 'country_ Dominican-Republic', 'country_ Ecuador',\n",
              "       'country_ El-Salvador', 'country_ England', 'country_ France',\n",
              "       'country_ Germany', 'country_ Greece', 'country_ Guatemala',\n",
              "       'country_ Haiti', 'country_ Honduras', 'country_ Hong',\n",
              "       'country_ India', 'country_ Iran', 'country_ Ireland',\n",
              "       'country_ Italy', 'country_ Jamaica', 'country_ Japan',\n",
              "       'country_ Laos', 'country_ Mexico', 'country_ Nicaragua',\n",
              "       'country_ Outlying-US(Guam-USVI-etc)', 'country_ Peru',\n",
              "       'country_ Philippines', 'country_ Poland', 'country_ Portugal',\n",
              "       'country_ Puerto-Rico', 'country_ Scotland', 'country_ South',\n",
              "       'country_ Taiwan', 'country_ Thailand', 'country_ Trinadad&Tobago',\n",
              "       'country_ United-States', 'country_ Vietnam',\n",
              "       'country_ Yugoslavia'], dtype=object)"
            ]
          },
          "metadata": {},
          "execution_count": 7
        }
      ]
    },
    {
      "cell_type": "code",
      "source": [
        "len(encoder.get_feature_names_out())"
      ],
      "metadata": {
        "id": "6WKnrNcL_ReH",
        "colab": {
          "base_uri": "https://localhost:8080/"
        },
        "outputId": "2d661d58-4068-4e06-e0f6-f5524a19afea"
      },
      "execution_count": null,
      "outputs": [
        {
          "output_type": "execute_result",
          "data": {
            "text/plain": [
              "230"
            ]
          },
          "metadata": {},
          "execution_count": 8
        }
      ]
    },
    {
      "cell_type": "markdown",
      "source": [
        "PART 3 A"
      ],
      "metadata": {
        "id": "1fnnZmPQdpiF"
      }
    },
    {
      "cell_type": "code",
      "source": [
        "columns=[\"age\",\"sector\",\"edu\",\"marriage\",\"occupation\",\"race\",\"sex\",\"hours\",\"country\",\"target\"]\n",
        "dev_data = pd.read_csv(\"hw1-data/income.dev.txt\", sep=\",\" , names =columns )\n",
        "train_data = pd.read_csv(\"hw1-data/income.train.txt.5k\", sep=\",\", names=columns)\n",
        "dev_data_features = dev_data.drop('target', axis=1)\n",
        "train_data_features = train_data.drop('target', axis=1)\n",
        "dev_data_label = dev_data['target']\n",
        "train_data_label = train_data['target']\n",
        "num_processor='passthrough'\n",
        "cat_processor=OneHotEncoder(sparse_output=False,handle_unknown='ignore')\n",
        "preprocessor=ColumnTransformer([ ('num',num_processor,['age','hours']), ('cat',cat_processor,[\"sector\",\"edu\",\"marriage\",\"occupation\",\"race\",\"sex\",\"country\"]) ])\n",
        "preprocessor.fit(train_data_features)\n",
        "binary_train_data_features=preprocessor.transform(train_data_features)\n",
        "binary_dev_data_features= preprocessor.transform(dev_data_features)\n",
        "best_dev_error_rate = float('inf')\n",
        "best_k = None\n",
        "for k in range(1,99,2):\n",
        "\n",
        "  knn = KNeighborsClassifier(n_neighbors=k)\n",
        "  knn.fit(binary_train_data_features, train_data_label)\n",
        "\n",
        "\n",
        "  train_pred = knn.predict(binary_train_data_features)\n",
        "  dev_pred = knn.predict(binary_dev_data_features)\n",
        "\n",
        "  train_positive_count = sum(train_pred == \" >50K\")\n",
        "  train_positive_rate = train_positive_count / len(train_pred) * 100\n",
        "\n",
        "  dev_positive_count = sum(dev_pred == \" >50K\")\n",
        "  dev_positive_rate = dev_positive_count / len(dev_pred) * 100\n",
        "\n",
        "  train_err = (1 - accuracy_score(train_data_label, train_pred)) * 100\n",
        "  dev_err = (1 - accuracy_score(dev_data_label, dev_pred)) * 100\n",
        "\n",
        "\n",
        "  if dev_err < best_dev_error_rate:\n",
        "    best_dev_error_rate = dev_err\n",
        "    best_k = k\n",
        "\n",
        "\n",
        "  print(f\"k={k} train_err: {train_err:.2f}% (+: {train_positive_rate:.2f}%) dev_err: {dev_err:.2f}% (+: {dev_positive_rate:.2f}%)\")\n",
        "\n",
        "print(f\"\\nBest development error rate: {best_dev_error_rate:.2f}% for k={best_k}\")"
      ],
      "metadata": {
        "colab": {
          "base_uri": "https://localhost:8080/"
        },
        "id": "Eo6AVb70dVHl",
        "outputId": "7d35761e-6651-464b-807b-6b31a733c7fc"
      },
      "execution_count": null,
      "outputs": [
        {
          "output_type": "stream",
          "name": "stdout",
          "text": [
            "k=1 train_err: 1.52% (+: 25.06%) dev_err: 26.90% (+: 27.30%)\n",
            "k=3 train_err: 12.98% (+: 24.68%) dev_err: 24.50% (+: 25.90%)\n",
            "k=5 train_err: 15.78% (+: 23.28%) dev_err: 23.30% (+: 25.90%)\n",
            "k=7 train_err: 16.56% (+: 22.86%) dev_err: 23.60% (+: 23.40%)\n",
            "k=9 train_err: 18.46% (+: 22.20%) dev_err: 22.90% (+: 22.70%)\n",
            "k=11 train_err: 18.66% (+: 22.04%) dev_err: 22.60% (+: 21.60%)\n",
            "k=13 train_err: 18.98% (+: 21.60%) dev_err: 21.80% (+: 21.60%)\n",
            "k=15 train_err: 19.22% (+: 21.64%) dev_err: 21.30% (+: 20.10%)\n",
            "k=17 train_err: 19.16% (+: 21.30%) dev_err: 21.80% (+: 20.40%)\n",
            "k=19 train_err: 19.50% (+: 20.60%) dev_err: 22.70% (+: 20.10%)\n",
            "k=21 train_err: 19.82% (+: 20.20%) dev_err: 21.50% (+: 19.30%)\n",
            "k=23 train_err: 20.36% (+: 20.34%) dev_err: 22.20% (+: 19.20%)\n",
            "k=25 train_err: 20.48% (+: 19.74%) dev_err: 22.10% (+: 19.10%)\n",
            "k=27 train_err: 20.98% (+: 18.80%) dev_err: 22.10% (+: 18.30%)\n",
            "k=29 train_err: 20.82% (+: 18.88%) dev_err: 22.00% (+: 18.40%)\n",
            "k=31 train_err: 21.00% (+: 17.86%) dev_err: 21.50% (+: 18.30%)\n",
            "k=33 train_err: 20.92% (+: 17.14%) dev_err: 21.10% (+: 18.10%)\n",
            "k=35 train_err: 21.26% (+: 17.60%) dev_err: 21.10% (+: 17.70%)\n",
            "k=37 train_err: 21.58% (+: 17.28%) dev_err: 21.20% (+: 17.40%)\n",
            "k=39 train_err: 21.72% (+: 16.34%) dev_err: 21.90% (+: 18.10%)\n",
            "k=41 train_err: 21.58% (+: 16.00%) dev_err: 21.20% (+: 17.60%)\n",
            "k=43 train_err: 21.50% (+: 15.36%) dev_err: 22.20% (+: 17.80%)\n",
            "k=45 train_err: 21.96% (+: 15.62%) dev_err: 22.10% (+: 17.90%)\n",
            "k=47 train_err: 22.06% (+: 15.00%) dev_err: 22.60% (+: 17.40%)\n",
            "k=49 train_err: 22.06% (+: 14.80%) dev_err: 21.80% (+: 16.20%)\n",
            "k=51 train_err: 22.18% (+: 14.52%) dev_err: 21.80% (+: 15.40%)\n",
            "k=53 train_err: 22.42% (+: 14.32%) dev_err: 21.50% (+: 14.90%)\n",
            "k=55 train_err: 22.60% (+: 13.86%) dev_err: 22.60% (+: 14.20%)\n",
            "k=57 train_err: 22.78% (+: 13.48%) dev_err: 22.10% (+: 14.50%)\n",
            "k=59 train_err: 22.64% (+: 13.34%) dev_err: 22.60% (+: 14.00%)\n",
            "k=61 train_err: 22.80% (+: 12.90%) dev_err: 22.60% (+: 13.80%)\n",
            "k=63 train_err: 22.90% (+: 13.08%) dev_err: 22.80% (+: 14.40%)\n",
            "k=65 train_err: 22.90% (+: 13.00%) dev_err: 22.70% (+: 14.50%)\n",
            "k=67 train_err: 22.84% (+: 12.70%) dev_err: 22.90% (+: 13.10%)\n",
            "k=69 train_err: 23.10% (+: 12.56%) dev_err: 22.30% (+: 12.70%)\n",
            "k=71 train_err: 23.04% (+: 12.78%) dev_err: 22.60% (+: 12.60%)\n",
            "k=73 train_err: 23.00% (+: 12.46%) dev_err: 22.60% (+: 12.40%)\n",
            "k=75 train_err: 23.22% (+: 12.20%) dev_err: 23.00% (+: 12.00%)\n",
            "k=77 train_err: 23.06% (+: 12.12%) dev_err: 22.40% (+: 11.60%)\n",
            "k=79 train_err: 23.26% (+: 12.08%) dev_err: 22.30% (+: 11.50%)\n",
            "k=81 train_err: 23.30% (+: 12.00%) dev_err: 22.10% (+: 10.90%)\n",
            "k=83 train_err: 23.26% (+: 11.76%) dev_err: 22.30% (+: 11.10%)\n",
            "k=85 train_err: 23.40% (+: 11.46%) dev_err: 22.00% (+: 11.20%)\n",
            "k=87 train_err: 23.34% (+: 11.60%) dev_err: 22.10% (+: 10.90%)\n",
            "k=89 train_err: 23.40% (+: 11.30%) dev_err: 22.70% (+: 10.30%)\n",
            "k=91 train_err: 23.36% (+: 11.22%) dev_err: 22.90% (+: 10.50%)\n",
            "k=93 train_err: 23.40% (+: 11.30%) dev_err: 22.70% (+: 10.70%)\n",
            "k=95 train_err: 23.38% (+: 11.32%) dev_err: 22.20% (+: 10.60%)\n",
            "k=97 train_err: 23.32% (+: 11.22%) dev_err: 22.40% (+: 11.00%)\n",
            "\n",
            "Best development error rate: 21.10% for k=33\n"
          ]
        }
      ]
    },
    {
      "cell_type": "markdown",
      "source": [
        "PART 3B"
      ],
      "metadata": {
        "id": "WpgYMsQOkCXn"
      }
    },
    {
      "cell_type": "code",
      "source": [
        "columns=[\"age\",\"sector\",\"edu\",\"marriage\",\"occupation\",\"race\",\"sex\",\"hours\",\"country\",\"target\"]\n",
        "dev_data = pd.read_csv(\"hw1-data/income.dev.txt\", sep=\",\" , names =columns )\n",
        "train_data = pd.read_csv(\"hw1-data/income.train.txt.5k\", sep=\",\", names=columns)\n",
        "dev_data_features = dev_data.drop('target', axis=1)\n",
        "train_data_features = train_data.drop('target', axis=1)\n",
        "dev_data_label = dev_data['target']\n",
        "train_data_label = train_data['target']\n",
        "num_processor=MinMaxScaler(feature_range=(0,2))\n",
        "cat_processor=OneHotEncoder(sparse_output=False,handle_unknown='ignore')\n",
        "preprocessor=ColumnTransformer([ ('num',num_processor,['age','hours']), ('cat',cat_processor,[\"sector\",\"edu\",\"marriage\",\"occupation\",\"race\",\"sex\",\"country\"]) ])\n",
        "preprocessor.fit(train_data_features)\n",
        "binary_train_data_features=preprocessor.transform(train_data_features)\n",
        "binary_dev_data_features= preprocessor.transform(dev_data_features)\n",
        "best_dev_error_rate = float('inf')\n",
        "best_k = None\n",
        "for k in range(1,99,2):\n",
        "\n",
        "  knn = KNeighborsClassifier(n_neighbors=k,metric=\"manhattan\")\n",
        "  knn.fit(binary_train_data_features, train_data_label)\n",
        "\n",
        "\n",
        "  train_pred = knn.predict(binary_train_data_features)\n",
        "  dev_pred = knn.predict(binary_dev_data_features)\n",
        "\n",
        "  train_positive_count = sum(train_pred == \" >50K\")\n",
        "  train_positive_rate = train_positive_count / len(train_pred) * 100\n",
        "\n",
        "  dev_positive_count = sum(dev_pred == \" >50K\")\n",
        "  dev_positive_rate = dev_positive_count / len(dev_pred) * 100\n",
        "\n",
        "  train_err = (1 - accuracy_score(train_data_label, train_pred)) * 100\n",
        "  dev_err = (1 - accuracy_score(dev_data_label, dev_pred)) * 100\n",
        "\n",
        "\n",
        "  if dev_err < best_dev_error_rate:\n",
        "    best_dev_error_rate = dev_err\n",
        "    best_k = k\n",
        "\n",
        "\n",
        "  print(f\"k={k} train_err: {train_err:.2f}% (+: {train_positive_rate:.2f}%) dev_err: {dev_err:.2f}% (+: {dev_positive_rate:.2f}%)\")\n",
        "\n",
        "print(f\"\\nBest development error rate: {best_dev_error_rate:.2f}% for k={best_k}\")"
      ],
      "metadata": {
        "colab": {
          "base_uri": "https://localhost:8080/"
        },
        "id": "MYwX63JsiZqY",
        "outputId": "490d41b4-f973-492d-bc94-28845531488f"
      },
      "execution_count": null,
      "outputs": [
        {
          "output_type": "stream",
          "name": "stdout",
          "text": [
            "k=1 train_err: 1.52% (+: 25.06%) dev_err: 24.00% (+: 27.20%)\n",
            "k=3 train_err: 11.68% (+: 23.98%) dev_err: 20.10% (+: 26.50%)\n",
            "k=5 train_err: 13.74% (+: 23.88%) dev_err: 17.50% (+: 24.70%)\n",
            "k=7 train_err: 14.56% (+: 23.78%) dev_err: 16.60% (+: 24.20%)\n",
            "k=9 train_err: 15.46% (+: 23.40%) dev_err: 16.20% (+: 22.80%)\n",
            "k=11 train_err: 16.42% (+: 23.40%) dev_err: 16.10% (+: 21.90%)\n",
            "k=13 train_err: 16.44% (+: 23.66%) dev_err: 16.40% (+: 22.40%)\n",
            "k=15 train_err: 16.86% (+: 22.84%) dev_err: 16.40% (+: 21.60%)\n",
            "k=17 train_err: 16.94% (+: 22.88%) dev_err: 15.40% (+: 21.20%)\n",
            "k=19 train_err: 16.92% (+: 22.66%) dev_err: 16.10% (+: 20.90%)\n",
            "k=21 train_err: 17.10% (+: 22.28%) dev_err: 16.10% (+: 21.50%)\n",
            "k=23 train_err: 17.04% (+: 22.34%) dev_err: 16.10% (+: 21.50%)\n",
            "k=25 train_err: 16.88% (+: 22.10%) dev_err: 15.30% (+: 21.10%)\n",
            "k=27 train_err: 16.86% (+: 22.04%) dev_err: 15.50% (+: 20.70%)\n",
            "k=29 train_err: 17.00% (+: 21.34%) dev_err: 15.90% (+: 20.70%)\n",
            "k=31 train_err: 17.08% (+: 21.10%) dev_err: 15.70% (+: 20.90%)\n",
            "k=33 train_err: 17.02% (+: 21.12%) dev_err: 15.80% (+: 20.20%)\n",
            "k=35 train_err: 16.94% (+: 21.12%) dev_err: 15.20% (+: 20.60%)\n",
            "k=37 train_err: 17.24% (+: 20.86%) dev_err: 14.60% (+: 20.40%)\n",
            "k=39 train_err: 17.24% (+: 20.82%) dev_err: 14.40% (+: 20.60%)\n",
            "k=41 train_err: 17.32% (+: 21.10%) dev_err: 14.00% (+: 20.60%)\n",
            "k=43 train_err: 17.50% (+: 20.80%) dev_err: 14.50% (+: 20.10%)\n",
            "k=45 train_err: 17.64% (+: 20.14%) dev_err: 14.70% (+: 19.90%)\n",
            "k=47 train_err: 17.72% (+: 20.02%) dev_err: 15.00% (+: 19.80%)\n",
            "k=49 train_err: 17.78% (+: 19.92%) dev_err: 15.10% (+: 19.90%)\n",
            "k=51 train_err: 17.74% (+: 19.96%) dev_err: 15.30% (+: 19.90%)\n",
            "k=53 train_err: 17.74% (+: 19.68%) dev_err: 15.40% (+: 19.60%)\n",
            "k=55 train_err: 17.96% (+: 19.70%) dev_err: 15.10% (+: 19.70%)\n",
            "k=57 train_err: 17.78% (+: 19.52%) dev_err: 15.10% (+: 19.90%)\n",
            "k=59 train_err: 17.92% (+: 19.78%) dev_err: 14.90% (+: 19.70%)\n",
            "k=61 train_err: 17.98% (+: 19.72%) dev_err: 15.00% (+: 19.60%)\n",
            "k=63 train_err: 17.98% (+: 19.76%) dev_err: 15.10% (+: 19.90%)\n",
            "k=65 train_err: 17.80% (+: 19.58%) dev_err: 15.30% (+: 19.50%)\n",
            "k=67 train_err: 17.84% (+: 19.82%) dev_err: 15.40% (+: 19.60%)\n",
            "k=69 train_err: 17.76% (+: 19.70%) dev_err: 15.20% (+: 19.40%)\n",
            "k=71 train_err: 17.62% (+: 19.60%) dev_err: 15.30% (+: 19.70%)\n",
            "k=73 train_err: 17.70% (+: 19.60%) dev_err: 15.00% (+: 19.20%)\n",
            "k=75 train_err: 17.70% (+: 19.68%) dev_err: 15.30% (+: 19.10%)\n",
            "k=77 train_err: 17.88% (+: 19.74%) dev_err: 15.50% (+: 19.50%)\n",
            "k=79 train_err: 17.96% (+: 19.74%) dev_err: 15.60% (+: 19.60%)\n",
            "k=81 train_err: 17.82% (+: 19.68%) dev_err: 15.70% (+: 19.50%)\n",
            "k=83 train_err: 17.84% (+: 19.82%) dev_err: 15.50% (+: 19.30%)\n",
            "k=85 train_err: 17.82% (+: 19.76%) dev_err: 15.30% (+: 19.10%)\n",
            "k=87 train_err: 17.78% (+: 19.80%) dev_err: 15.40% (+: 19.20%)\n",
            "k=89 train_err: 17.82% (+: 19.64%) dev_err: 15.20% (+: 18.60%)\n",
            "k=91 train_err: 17.88% (+: 19.66%) dev_err: 15.40% (+: 18.80%)\n",
            "k=93 train_err: 17.94% (+: 19.64%) dev_err: 15.40% (+: 18.80%)\n",
            "k=95 train_err: 17.86% (+: 19.60%) dev_err: 15.60% (+: 19.00%)\n",
            "k=97 train_err: 18.00% (+: 19.66%) dev_err: 15.50% (+: 18.90%)\n",
            "\n",
            "Best development error rate: 14.00% for k=41\n"
          ]
        }
      ]
    }
  ]
}