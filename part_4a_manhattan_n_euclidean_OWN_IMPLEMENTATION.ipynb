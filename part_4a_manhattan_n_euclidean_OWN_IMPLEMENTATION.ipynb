{
  "cells": [
    {
      "cell_type": "code",
      "execution_count": null,
      "metadata": {
        "colab": {
          "base_uri": "https://localhost:8080/"
        },
        "id": "hROmhR1c5AFf",
        "outputId": "a471012a-3c96-4aa4-ddf6-838b765fa5aa"
      },
      "outputs": [
        {
          "name": "stdout",
          "output_type": "stream",
          "text": [
            "--2023-10-22 00:23:47--  https://classes.engr.oregonstate.edu/eecs/fall2023/ai534-400/unit1/hw1/hw1-data.tgz\n",
            "Resolving classes.engr.oregonstate.edu (classes.engr.oregonstate.edu)... 128.193.40.20\n",
            "Connecting to classes.engr.oregonstate.edu (classes.engr.oregonstate.edu)|128.193.40.20|:443... connected.\n",
            "HTTP request sent, awaiting response... 200 OK\n",
            "Length: 54557 (53K) [application/x-gzip]\n",
            "Saving to: ‘hw1-data.tgz.1’\n",
            "\n",
            "hw1-data.tgz.1      100%[===================>]  53.28K   172KB/s    in 0.3s    \n",
            "\n",
            "2023-10-22 00:23:48 (172 KB/s) - ‘hw1-data.tgz.1’ saved [54557/54557]\n",
            "\n"
          ]
        }
      ],
      "source": [
        "! wget https://classes.engr.oregonstate.edu/eecs/fall2023/ai534-400/unit1/hw1/hw1-data.tgz"
      ]
    },
    {
      "cell_type": "code",
      "execution_count": null,
      "metadata": {
        "colab": {
          "base_uri": "https://localhost:8080/"
        },
        "id": "Ubb3SslZ51Fk",
        "outputId": "eeb7c5ec-e189-483e-eda4-4ae3b533750e"
      },
      "outputs": [
        {
          "name": "stdout",
          "output_type": "stream",
          "text": [
            "hw1-data/random_output.py\n",
            "hw1-data/validate.py\n",
            "hw1-data/toy.txt\n",
            "hw1-data/income.train.txt.5k\n",
            "hw1-data/income.dev.txt\n",
            "hw1-data/income.test.blind\n"
          ]
        }
      ],
      "source": [
        "! tar -xzvf hw1-data.tgz"
      ]
    },
    {
      "cell_type": "code",
      "execution_count": null,
      "metadata": {
        "id": "KqSaaa-jWh1e"
      },
      "outputs": [],
      "source": [
        "import numpy as np\n",
        "\n",
        "class KNN:\n",
        "    def __init__(self, k=3, distance_metric='euclidean'):\n",
        "        self.k = k\n",
        "        self.distance_metric = distance_metric\n",
        "\n",
        "    def fit(self, X, y):\n",
        "        self.X_train = X\n",
        "        self.y_train = y\n",
        "\n",
        "    def predict(self, X):\n",
        "        y_pred = [self._predict(x) for x in X]\n",
        "        return np.array(y_pred)\n",
        "\n",
        "    def _predict(self, x):\n",
        "        # Compute the distance based on the chosen metric\n",
        "        if self.distance_metric == 'euclidean':\n",
        "            distances = np.linalg.norm(self.X_train - x, axis=1)\n",
        "        elif self.distance_metric == 'manhattan':\n",
        "            distances = np.sum(np.abs(self.X_train - x), axis=1)\n",
        "        else:\n",
        "            raise ValueError(\"Invalid distance metric\")\n",
        "\n",
        "        # Use np.argpartition to get indices of the k smallest distances\n",
        "        k_indices = np.argpartition(distances, self.k)[:self.k]\n",
        "\n",
        "        # Extract the labels of the k nearest neighbor training samples\n",
        "        k_nearest_labels = self.y_train[k_indices]\n",
        "\n",
        "        # Return the most common class label using NumPy\n",
        "        labels, counts = np.unique(k_nearest_labels, return_counts=True)\n",
        "        most_common_label = labels[np.argmax(counts)]\n",
        "\n",
        "        return most_common_label\n",
        "\n",
        "    def kneighbors(self, X, return_distance=True):\n",
        "        neighbors = []\n",
        "\n",
        "        for x in X:\n",
        "            # Compute the distance based on the chosen metric\n",
        "            if self.distance_metric == 'euclidean':\n",
        "                distances = np.linalg.norm(self.X_train - x, axis=1)\n",
        "            elif self.distance_metric == 'manhattan':\n",
        "                distances = np.sum(np.abs(self.X_train - x), axis=1)\n",
        "            else:\n",
        "                raise ValueError(\"Invalid distance metric\")\n",
        "\n",
        "            # Use np.argpartition to get indices of the k smallest distances\n",
        "            k_indices = np.argpartition(distances, self.k)[:self.k]\n",
        "\n",
        "            if return_distance:\n",
        "                k_distances = distances[k_indices]\n",
        "                neighbors.append((k_distances, k_indices))\n",
        "            else:\n",
        "                neighbors.append(k_indices)\n",
        "\n",
        "        return neighbors\n"
      ]
    },
    {
      "cell_type": "code",
      "execution_count": null,
      "metadata": {
        "id": "2WXMJdEq6CzA"
      },
      "outputs": [],
      "source": [
        "import pandas as pd\n",
        "from sklearn.preprocessing import OneHotEncoder\n",
        "from sklearn.neighbors import KNeighborsClassifier\n",
        "from sklearn.metrics import accuracy_score\n",
        "from sklearn.metrics import confusion_matrix\n",
        "from sklearn.compose import ColumnTransformer\n",
        "from sklearn.compose import ColumnTransformer\n",
        "from sklearn.preprocessing import MinMaxScaler,OneHotEncoder"
      ]
    },
    {
      "cell_type": "code",
      "execution_count": null,
      "metadata": {
        "colab": {
          "base_uri": "https://localhost:8080/"
        },
        "id": "Nv2_tz2N6RyA",
        "outputId": "660956f5-6e89-41a0-f729-a932e4cc2e15"
      },
      "outputs": [
        {
          "name": "stdout",
          "output_type": "stream",
          "text": [
            "k=1 train_err: 1.52% (+: 25.06%) dev_err: 24.00% (+: 27.20%)\n",
            "k=3 train_err: 11.64% (+: 23.94%) dev_err: 19.70% (+: 26.10%)\n",
            "k=5 train_err: 14.00% (+: 23.86%) dev_err: 17.60% (+: 25.00%)\n",
            "k=7 train_err: 14.54% (+: 23.96%) dev_err: 16.60% (+: 24.00%)\n",
            "k=9 train_err: 15.46% (+: 23.60%) dev_err: 16.20% (+: 22.20%)\n",
            "k=11 train_err: 16.16% (+: 23.42%) dev_err: 16.30% (+: 21.90%)\n",
            "k=13 train_err: 16.48% (+: 23.58%) dev_err: 16.50% (+: 22.30%)\n",
            "k=15 train_err: 16.82% (+: 22.80%) dev_err: 16.30% (+: 21.70%)\n",
            "k=17 train_err: 16.86% (+: 22.84%) dev_err: 15.50% (+: 21.10%)\n",
            "k=19 train_err: 16.96% (+: 22.46%) dev_err: 16.00% (+: 21.00%)\n",
            "k=21 train_err: 16.96% (+: 22.22%) dev_err: 16.60% (+: 21.20%)\n",
            "k=23 train_err: 17.08% (+: 22.26%) dev_err: 16.20% (+: 21.60%)\n",
            "k=25 train_err: 17.04% (+: 22.10%) dev_err: 15.70% (+: 21.10%)\n",
            "k=27 train_err: 16.90% (+: 21.84%) dev_err: 15.80% (+: 20.60%)\n",
            "k=29 train_err: 16.76% (+: 21.34%) dev_err: 16.00% (+: 20.60%)\n",
            "k=31 train_err: 16.98% (+: 21.24%) dev_err: 15.90% (+: 20.50%)\n",
            "k=33 train_err: 17.02% (+: 21.00%) dev_err: 15.80% (+: 20.20%)\n",
            "k=35 train_err: 16.92% (+: 21.06%) dev_err: 15.10% (+: 20.50%)\n",
            "k=37 train_err: 17.20% (+: 20.94%) dev_err: 14.60% (+: 20.60%)\n",
            "k=39 train_err: 17.38% (+: 20.80%) dev_err: 14.30% (+: 20.50%)\n",
            "k=41 train_err: 17.36% (+: 21.06%) dev_err: 14.10% (+: 20.50%)\n",
            "k=43 train_err: 17.44% (+: 20.78%) dev_err: 14.60% (+: 20.40%)\n",
            "k=45 train_err: 17.66% (+: 20.28%) dev_err: 14.90% (+: 19.90%)\n",
            "k=47 train_err: 17.80% (+: 20.06%) dev_err: 15.40% (+: 20.20%)\n",
            "k=49 train_err: 17.72% (+: 19.90%) dev_err: 15.40% (+: 20.00%)\n",
            "k=51 train_err: 17.86% (+: 19.88%) dev_err: 15.50% (+: 19.70%)\n",
            "k=53 train_err: 17.76% (+: 19.66%) dev_err: 15.40% (+: 19.80%)\n",
            "k=55 train_err: 17.90% (+: 19.56%) dev_err: 15.40% (+: 19.80%)\n",
            "k=57 train_err: 17.82% (+: 19.56%) dev_err: 15.00% (+: 19.80%)\n",
            "k=59 train_err: 17.88% (+: 19.70%) dev_err: 14.80% (+: 19.80%)\n",
            "k=61 train_err: 17.78% (+: 19.80%) dev_err: 14.90% (+: 19.50%)\n",
            "k=63 train_err: 17.94% (+: 19.80%) dev_err: 14.90% (+: 19.70%)\n",
            "k=65 train_err: 17.68% (+: 19.70%) dev_err: 15.30% (+: 19.50%)\n",
            "k=67 train_err: 17.80% (+: 19.82%) dev_err: 15.20% (+: 19.60%)\n",
            "k=69 train_err: 17.74% (+: 19.76%) dev_err: 15.20% (+: 19.60%)\n",
            "k=71 train_err: 17.60% (+: 19.62%) dev_err: 15.40% (+: 19.40%)\n",
            "k=73 train_err: 17.70% (+: 19.56%) dev_err: 15.20% (+: 19.20%)\n",
            "k=75 train_err: 17.86% (+: 19.68%) dev_err: 15.40% (+: 19.40%)\n",
            "k=77 train_err: 17.90% (+: 19.76%) dev_err: 15.60% (+: 19.40%)\n",
            "k=79 train_err: 18.02% (+: 19.76%) dev_err: 15.90% (+: 19.50%)\n",
            "k=81 train_err: 17.94% (+: 19.60%) dev_err: 15.70% (+: 19.30%)\n",
            "k=83 train_err: 17.90% (+: 19.76%) dev_err: 15.60% (+: 18.80%)\n",
            "k=85 train_err: 17.82% (+: 19.76%) dev_err: 15.30% (+: 18.90%)\n",
            "k=87 train_err: 17.80% (+: 19.78%) dev_err: 15.50% (+: 19.10%)\n",
            "k=89 train_err: 17.90% (+: 19.72%) dev_err: 15.20% (+: 19.00%)\n",
            "k=91 train_err: 17.90% (+: 19.64%) dev_err: 15.40% (+: 19.20%)\n",
            "k=93 train_err: 18.08% (+: 19.58%) dev_err: 15.50% (+: 18.90%)\n",
            "k=95 train_err: 17.94% (+: 19.64%) dev_err: 15.70% (+: 19.10%)\n",
            "k=97 train_err: 17.94% (+: 19.60%) dev_err: 15.60% (+: 19.20%)\n",
            "\n",
            "Best development error rate: 14.10% for k=41\n"
          ]
        }
      ],
      "source": [
        "columns=[\"age\",\"sector\",\"edu\",\"marriage\",\"occupation\",\"race\",\"sex\",\"hours\",\"country\",\"target\"]\n",
        "dev_data = pd.read_csv(\"hw1-data/income.dev.txt\", sep=\",\" , names =columns )\n",
        "train_data = pd.read_csv(\"hw1-data/income.train.txt.5k\", sep=\",\", names=columns)\n",
        "dev_data_features = dev_data.drop('target', axis=1)\n",
        "train_data_features = train_data.drop('target', axis=1)\n",
        "dev_data_label = dev_data['target']\n",
        "train_data_label = train_data['target']\n",
        "num_processor=MinMaxScaler(feature_range=(0,2))\n",
        "cat_processor=OneHotEncoder(sparse_output=False,handle_unknown='ignore')\n",
        "preprocessor=ColumnTransformer([ ('num',num_processor,['age','hours']), ('cat',cat_processor,[\"sector\",\"edu\",\"marriage\",\"occupation\",\"race\",\"sex\",\"country\"]) ])\n",
        "preprocessor.fit(train_data_features)\n",
        "binary_train_data_features=preprocessor.transform(train_data_features)\n",
        "binary_dev_data_features= preprocessor.transform(dev_data_features)\n",
        "best_dev_error_rate = float('inf')\n",
        "best_k = None\n",
        "for k in range(1,99,2):\n",
        "\n",
        "  knn = KNN(k=k, distance_metric='manhattan')\n",
        "  knn.fit(binary_train_data_features, train_data_label)\n",
        "\n",
        "\n",
        "  train_pred = knn.predict(binary_train_data_features)\n",
        "  dev_pred = knn.predict(binary_dev_data_features)\n",
        "\n",
        "  train_positive_count = sum(train_pred == \" >50K\")\n",
        "  train_positive_rate = train_positive_count / len(train_pred) * 100\n",
        "\n",
        "  dev_positive_count = sum(dev_pred == \" >50K\")\n",
        "  dev_positive_rate = dev_positive_count / len(dev_pred) * 100\n",
        "\n",
        "  train_err = (1 - accuracy_score(train_data_label, train_pred)) * 100\n",
        "  dev_err = (1 - accuracy_score(dev_data_label, dev_pred)) * 100\n",
        "\n",
        "\n",
        "  if dev_err < best_dev_error_rate:\n",
        "    best_dev_error_rate = dev_err\n",
        "    best_k = k\n",
        "\n",
        "\n",
        "  print(f\"k={k} train_err: {train_err:.2f}% (+: {train_positive_rate:.2f}%) dev_err: {dev_err:.2f}% (+: {dev_positive_rate:.2f}%)\")\n",
        "print(f\"\\nBest development error rate: {best_dev_error_rate:.2f}% for k={best_k}\")"
      ]
    },
    {
      "cell_type": "code",
      "execution_count": null,
      "metadata": {
        "colab": {
          "base_uri": "https://localhost:8080/"
        },
        "id": "6WKnrNcL_ReH",
        "outputId": "1f2cc850-cd75-4a57-ff12-604eb0fa2f51"
      },
      "outputs": [
        {
          "data": {
            "text/plain": [
              "92"
            ]
          },
          "execution_count": 6,
          "metadata": {},
          "output_type": "execute_result"
        }
      ],
      "source": [
        "len(preprocessor.get_feature_names_out())"
      ]
    },
    {
      "cell_type": "code",
      "execution_count": null,
      "metadata": {
        "id": "g3jNWklYNwXM"
      },
      "outputs": [],
      "source": [
        "preprocessor.get_feature_names_out()"
      ]
    },
    {
      "cell_type": "markdown",
      "metadata": {
        "id": "u3sXFAEsnrwv"
      },
      "source": [
        "distance verification using  manhattan distance"
      ]
    },
    {
      "cell_type": "code",
      "execution_count": null,
      "metadata": {
        "colab": {
          "background_save": true,
          "base_uri": "https://localhost:8080/"
        },
        "id": "N9-Cqb_j171d",
        "outputId": "c641d3b9-9bc5-4bd3-f20c-9ada0d9a09f7"
      },
      "outputs": [
        {
          "name": "stdout",
          "output_type": "stream",
          "text": [
            "k=1 train_err: 1.52% (+: 25.06%) dev_err: 23.90% (+: 27.30%)\n",
            "k=3 train_err: 11.40% (+: 23.90%) dev_err: 19.60% (+: 25.40%)\n",
            "k=5 train_err: 13.74% (+: 23.64%) dev_err: 17.80% (+: 24.40%)\n",
            "k=7 train_err: 14.32% (+: 23.82%) dev_err: 16.60% (+: 24.00%)\n",
            "k=9 train_err: 15.42% (+: 23.56%) dev_err: 15.30% (+: 22.50%)\n",
            "k=11 train_err: 16.50% (+: 23.60%) dev_err: 16.40% (+: 21.20%)\n",
            "k=13 train_err: 16.48% (+: 23.50%) dev_err: 16.70% (+: 21.90%)\n",
            "k=15 train_err: 16.38% (+: 23.12%) dev_err: 15.90% (+: 21.90%)\n",
            "k=17 train_err: 16.66% (+: 22.80%) dev_err: 15.80% (+: 21.60%)\n",
            "k=19 train_err: 16.70% (+: 22.48%) dev_err: 16.40% (+: 20.80%)\n",
            "k=21 train_err: 16.94% (+: 22.20%) dev_err: 16.20% (+: 21.00%)\n",
            "k=23 train_err: 17.04% (+: 22.26%) dev_err: 15.50% (+: 21.70%)\n",
            "k=25 train_err: 16.90% (+: 22.40%) dev_err: 15.60% (+: 21.40%)\n",
            "k=27 train_err: 16.94% (+: 22.24%) dev_err: 15.60% (+: 20.80%)\n",
            "k=29 train_err: 17.04% (+: 21.82%) dev_err: 15.10% (+: 21.10%)\n",
            "k=31 train_err: 16.92% (+: 21.86%) dev_err: 15.20% (+: 21.20%)\n",
            "k=33 train_err: 17.04% (+: 21.62%) dev_err: 15.60% (+: 21.40%)\n",
            "k=35 train_err: 17.20% (+: 21.38%) dev_err: 15.30% (+: 20.70%)\n",
            "k=37 train_err: 17.16% (+: 21.46%) dev_err: 14.90% (+: 20.90%)\n",
            "k=39 train_err: 17.26% (+: 21.28%) dev_err: 14.80% (+: 20.60%)\n",
            "k=41 train_err: 17.38% (+: 20.88%) dev_err: 14.40% (+: 20.40%)\n",
            "k=43 train_err: 17.42% (+: 20.76%) dev_err: 14.90% (+: 20.50%)\n",
            "k=45 train_err: 17.76% (+: 20.90%) dev_err: 14.80% (+: 20.60%)\n",
            "k=47 train_err: 17.88% (+: 20.22%) dev_err: 15.20% (+: 19.80%)\n",
            "k=49 train_err: 18.02% (+: 20.16%) dev_err: 15.30% (+: 20.10%)\n",
            "k=51 train_err: 17.94% (+: 20.20%) dev_err: 15.60% (+: 19.80%)\n",
            "k=53 train_err: 18.04% (+: 19.98%) dev_err: 15.40% (+: 19.80%)\n",
            "k=55 train_err: 18.02% (+: 19.88%) dev_err: 15.40% (+: 20.20%)\n",
            "k=57 train_err: 18.04% (+: 19.90%) dev_err: 15.60% (+: 19.80%)\n",
            "k=59 train_err: 17.94% (+: 19.84%) dev_err: 15.40% (+: 19.80%)\n",
            "k=61 train_err: 17.96% (+: 19.82%) dev_err: 15.30% (+: 19.90%)\n",
            "k=63 train_err: 17.92% (+: 19.90%) dev_err: 15.60% (+: 19.80%)\n",
            "k=65 train_err: 17.80% (+: 19.98%) dev_err: 15.50% (+: 19.90%)\n",
            "k=67 train_err: 17.76% (+: 20.02%) dev_err: 15.40% (+: 19.80%)\n",
            "k=69 train_err: 17.78% (+: 19.92%) dev_err: 15.40% (+: 19.80%)\n",
            "k=71 train_err: 18.00% (+: 19.78%) dev_err: 15.50% (+: 19.70%)\n",
            "k=73 train_err: 17.94% (+: 19.72%) dev_err: 15.20% (+: 20.00%)\n",
            "k=75 train_err: 17.90% (+: 19.76%) dev_err: 14.90% (+: 19.70%)\n",
            "k=77 train_err: 17.92% (+: 19.70%) dev_err: 15.10% (+: 19.30%)\n",
            "k=79 train_err: 17.86% (+: 19.76%) dev_err: 15.40% (+: 19.20%)\n",
            "k=81 train_err: 17.92% (+: 19.78%) dev_err: 15.30% (+: 19.30%)\n",
            "k=83 train_err: 17.86% (+: 19.72%) dev_err: 15.40% (+: 19.40%)\n",
            "k=85 train_err: 17.88% (+: 19.66%) dev_err: 15.10% (+: 19.30%)\n",
            "k=87 train_err: 17.82% (+: 19.60%) dev_err: 15.10% (+: 19.70%)\n",
            "k=89 train_err: 17.98% (+: 19.72%) dev_err: 15.40% (+: 19.80%)\n",
            "k=91 train_err: 17.82% (+: 19.68%) dev_err: 15.50% (+: 19.50%)\n",
            "k=93 train_err: 17.86% (+: 19.72%) dev_err: 15.10% (+: 19.30%)\n",
            "k=95 train_err: 17.82% (+: 19.76%) dev_err: 15.40% (+: 19.60%)\n",
            "k=97 train_err: 17.84% (+: 19.70%) dev_err: 15.30% (+: 19.30%)\n",
            "\n",
            "Best development error rate: 14.40% for k=41\n"
          ]
        }
      ],
      "source": [
        "columns=[\"age\",\"sector\",\"edu\",\"marriage\",\"occupation\",\"race\",\"sex\",\"hours\",\"country\",\"target\"]\n",
        "dev_data = pd.read_csv(\"hw1-data/income.dev.txt\", sep=\",\" , names =columns )\n",
        "train_data = pd.read_csv(\"hw1-data/income.train.txt.5k\", sep=\",\", names=columns)\n",
        "dev_data_features = dev_data.drop('target', axis=1)\n",
        "train_data_features = train_data.drop('target', axis=1)\n",
        "dev_data_label = dev_data['target']\n",
        "train_data_label = train_data['target']\n",
        "num_processor=MinMaxScaler(feature_range=(0,2))\n",
        "cat_processor=OneHotEncoder(sparse_output=False,handle_unknown='ignore')\n",
        "preprocessor=ColumnTransformer([ ('num',num_processor,['age','hours']), ('cat',cat_processor,[\"sector\",\"edu\",\"marriage\",\"occupation\",\"race\",\"sex\",\"country\"]) ])\n",
        "preprocessor.fit(train_data_features)\n",
        "binary_train_data_features=preprocessor.transform(train_data_features)\n",
        "binary_dev_data_features= preprocessor.transform(dev_data_features)\n",
        "best_dev_error_rate = float('inf')\n",
        "best_k = None\n",
        "for k in range(1,99,2):\n",
        "\n",
        "  knn = KNN(k=k, distance_metric='euclidean')\n",
        "  knn.fit(binary_train_data_features, train_data_label)\n",
        "\n",
        "\n",
        "  train_pred = knn.predict(binary_train_data_features)\n",
        "  dev_pred = knn.predict(binary_dev_data_features)\n",
        "\n",
        "  train_positive_count = sum(train_pred == \" >50K\")\n",
        "  train_positive_rate = train_positive_count / len(train_pred) * 100\n",
        "\n",
        "  dev_positive_count = sum(dev_pred == \" >50K\")\n",
        "  dev_positive_rate = dev_positive_count / len(dev_pred) * 100\n",
        "\n",
        "  train_err = (1 - accuracy_score(train_data_label, train_pred)) * 100\n",
        "  dev_err = (1 - accuracy_score(dev_data_label, dev_pred)) * 100\n",
        "\n",
        "\n",
        "  if dev_err < best_dev_error_rate:\n",
        "    best_dev_error_rate = dev_err\n",
        "    best_k = k\n",
        "\n",
        "\n",
        "  print(f\"k={k} train_err: {train_err:.2f}% (+: {train_positive_rate:.2f}%) dev_err: {dev_err:.2f}% (+: {dev_positive_rate:.2f}%)\")\n",
        "print(f\"\\nBest development error rate: {best_dev_error_rate:.2f}% for k={best_k}\")"
      ]
    }
  ],
  "metadata": {
    "colab": {
      "provenance": []
    },
    "kernelspec": {
      "display_name": "Python 3",
      "name": "python3"
    },
    "language_info": {
      "name": "python"
    }
  },
  "nbformat": 4,
  "nbformat_minor": 0
}